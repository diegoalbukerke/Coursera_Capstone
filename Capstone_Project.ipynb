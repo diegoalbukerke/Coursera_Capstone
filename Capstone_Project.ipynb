{
  "nbformat": 4,
  "nbformat_minor": 0,
  "metadata": {
    "colab": {
      "name": "Capstone_Project.ipynb",
      "provenance": [],
      "collapsed_sections": []
    },
    "kernelspec": {
      "name": "python3",
      "display_name": "Python 3"
    },
    "language_info": {
      "name": "python"
    }
  },
  "cells": [
    {
      "cell_type": "markdown",
      "metadata": {
        "id": "kTRHvgzyHBkM"
      },
      "source": [
        "<h1 align=center><font size = 5> Capstone Project</font></h1>"
      ]
    },
    {
      "cell_type": "markdown",
      "metadata": {
        "id": "a1AYYznLHMjD"
      },
      "source": [
        "Week 01"
      ]
    },
    {
      "cell_type": "markdown",
      "metadata": {
        "id": "jjv5-w_hIn6E"
      },
      "source": [
        "Imports"
      ]
    },
    {
      "cell_type": "code",
      "metadata": {
        "id": "9Fo0WDHxHGDM"
      },
      "source": [
        "import pandas as pd\n",
        "import numpy as np\n"
      ],
      "execution_count": null,
      "outputs": []
    },
    {
      "cell_type": "code",
      "metadata": {
        "id": "Yxm_WdshHYDE"
      },
      "source": [
        "Print"
      ],
      "execution_count": null,
      "outputs": []
    },
    {
      "cell_type": "code",
      "metadata": {
        "colab": {
          "base_uri": "https://localhost:8080/"
        },
        "id": "OYMppkkmHY4c",
        "outputId": "6c128818-f517-4982-c143-f00f74148c2c"
      },
      "source": [
        "print(\"Hello Capstone Project Course!\")"
      ],
      "execution_count": 1,
      "outputs": [
        {
          "output_type": "stream",
          "text": [
            "Hello Capstone Project Course!\n"
          ],
          "name": "stdout"
        }
      ]
    }
  ]
}